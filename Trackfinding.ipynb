{
 "cells": [
  {
   "cell_type": "markdown",
   "id": "17d0a5ea",
   "metadata": {},
   "source": [
    "In this exercise you implement a hough transform to find a number of tracks in an event. The simulator looks a lot like what you have seen in the lectures. The coordinate system is chosen such that the horizontal axis is 'z' and the vertical axis 'x'. Charged particles are generated approximately at the origin (0,0) and leave hits in a set of 6 planes. Coordinate units are in centi-meter. Each detector plane has a fixed z-coordinate and extends in x from -50 to +50 cm. The hit resolution is about 1 mm and the hit efficiency of the detector planes is about 95% . The following few lines generate and display an event:"
   ]
  },
  {
   "cell_type": "code",
   "execution_count": 1,
   "id": "5d70bddc",
   "metadata": {},
   "outputs": [
    {
     "data": {
      "text/plain": [
       "(<Figure size 432x288 with 1 Axes>, <AxesSubplot:>)"
      ]
     },
     "execution_count": 1,
     "metadata": {},
     "output_type": "execute_result"
    },
    {
     "data": {
      "image/png": "[encoded data removed]",
      "text/plain": [
       "<Figure size 432x288 with 1 Axes>"
      ]
     },
     "metadata": {
      "needs_background": "light"
     },
     "output_type": "display_data"
    }
   ],
   "source": [
    "# specify the seed, such that everybody works with the same event\n",
    "import numpy as np\n",
    "np.random.seed(1)\n",
    "# now configure the detector and generate 1 event\n",
    "import eventgenerator as sim\n",
    "# configure the detector\n",
    "det   = sim.configureDetector()\n",
    "# simulate an event\n",
    "event = sim.generateEvent(det)\n",
    "sim.drawEvent(event, det)"
   ]
  },
  {
   "cell_type": "markdown",
   "id": "eaf62af7",
   "metadata": {},
   "source": [
    "The 'event' has a 'hits()' method that will return you a set of hit coordinates in the (z,x) plane."
   ]
  },
  {
   "cell_type": "code",
   "execution_count": 3,
   "id": "b5cf7fa2",
   "metadata": {},
   "outputs": [
    {
     "name": "stdout",
     "output_type": "stream",
     "text": [
      "40.0 -4.924254429557544\n",
      "70.0 -6.7577409628602565\n",
      "100.0 -8.342910184025612\n",
      "130.0 -10.43861166295955\n",
      "160.0 -11.812983463163317\n",
      "190.0 -13.842592175987916\n",
      "40.0 3.20588127905343\n",
      "70.0 6.256713341917675\n",
      "100.0 9.8335426199846\n",
      "130.0 13.230435832437617\n"
     ]
    }
   ],
   "source": [
    "for hit in event.hits()[0:10]:\n",
    "    print(hit.z(),hit.x())"
   ]
  },
  {
   "cell_type": "markdown",
   "id": "cb48c1e1",
   "metadata": {},
   "source": [
    "**Exercise 1**: Implement a hough transform to find the particles in this event. For the 'feature' space, use trackparameters (x, tx) at the origin, where tx is the track slope (dx/dz). "
   ]
  },
  {
   "cell_type": "markdown",
   "id": "abcaefe5",
   "metadata": {},
   "source": [
    "**Exercise 2**: The event generator generates particles with a Poisson distributed multiplicity. By generating and analyzing a number of events, can you find out what the average multiplicity was?"
   ]
  },
  {
   "cell_type": "markdown",
   "id": "eefbbfbf",
   "metadata": {},
   "source": [
    "**Exercise 3**: Implement a minimum chi2 fit to extract the parameters of the tracks. Can you estimate the hit resolution?"
   ]
  },
  {
   "cell_type": "markdown",
   "id": "6edf4e8d",
   "metadata": {},
   "source": [
    "**Exercise 4**: One of the detector planes is a little misaligned, by about half the hit resolution. Can you figure out which plane that was?"
   ]
  },
  {
   "cell_type": "code",
   "execution_count": null,
   "id": "c9762c7f",
   "metadata": {},
   "outputs": [],
   "source": []
  }
 ],
 "metadata": {
  "kernelspec": {
   "display_name": "Python 3",
   "language": "python",
   "name": "python3"
  },
  "language_info": {
   "codemirror_mode": {
    "name": "ipython",
    "version": 3
   },
   "file_extension": ".py",
   "mimetype": "text/x-python",
   "name": "python",
   "nbconvert_exporter": "python",
   "pygments_lexer": "ipython3",
   "version": "3.8.5"
  }
 },
 "nbformat": 4,
 "nbformat_minor": 5
}
